{
  "cells": [
    {
      "cell_type": "markdown",
      "id": "8601d189",
      "metadata": {
        "id": "8601d189"
      },
      "source": [
        "\n",
        "# TensorFlow 2 Exercises for Basic Tensor Manipulation\n",
        "\n",
        "This notebook provides a set of exercises designed to familiarize you with the basics of tensor manipulation in TensorFlow 2,\n",
        "which is essential for handling Large Language Models (LLMs).\n",
        "\n",
        "## Contents\n",
        "1. Tensor Basics\n",
        "2. Tensor Operations\n",
        "3. Manipulating Tensor Shapes\n",
        "4. Indexing and Slicing\n",
        "5. Broadcasting\n",
        "6. Gradients and Differentiation\n",
        "7. Simple Neural Network Components\n",
        "8. Data Loading and Preprocessing\n",
        "\n",
        "Each section will include a brief explanation followed by practical exercises.\n"
      ]
    },
    {
      "cell_type": "markdown",
      "id": "216324e4",
      "metadata": {
        "id": "216324e4"
      },
      "source": [
        "\n",
        "## 1. Tensor Basics\n",
        "\n",
        "**Objective**: Understand how to create tensors, and learn about their types and shapes.\n",
        "\n",
        "**Exercises**:\n",
        "1. Create a scalar tensor (0-D tensor) with a specific value.\n",
        "2. Create a 1-D tensor (vector) with 5 elements.\n",
        "3. Create a 2-D tensor (matrix) of shape (3, 3).\n",
        "4. Find the data type (`dtype`) of the tensors created above.\n",
        "5. Convert a numpy array to a TensorFlow tensor.\n"
      ]
    },
    {
      "cell_type": "code",
      "source": [
        "import tensorflow as tf\n",
        "import numpy as np\n",
        "\n",
        "scalar_tensor = tf.constant(5)\n",
        "print(\"Scalar Tensor:\")\n",
        "print(scalar_tensor)\n",
        "\n",
        "\n",
        "vector = tf.constant([1, 2, 3, 4, 5])\n",
        "\n",
        "print(\"1-D Tensor (Vector) with 5 elements:\")\n",
        "print(vector)\n",
        "\n",
        "matrix = tf.constant([[1, 2, 3],\n",
        "                      [4, 5, 6],\n",
        "                      [7, 8, 9]])\n",
        "\n",
        "print(\"2-D Tensor (Matrix) of shape (3, 3):\")\n",
        "print(matrix)\n",
        "\n",
        "matrix_dtype = matrix.dtype\n",
        "\n",
        "print(\"Data type (dtype) of the 2-D tensor (matrix):\")\n",
        "print(matrix_dtype)\n",
        "\n",
        "numpy_array = np.array([[1, 2, 3],\n",
        "                        [4, 5, 6]])\n",
        "\n",
        "# Convert the NumPy array to a TensorFlow tensor\n",
        "tensor_from_numpy = tf.convert_to_tensor(numpy_array)\n",
        "\n",
        "print(\"TensorFlow Tensor from NumPy array:\")\n",
        "print(tensor_from_numpy)\n"
      ],
      "metadata": {
        "id": "ubnAXO9FxVnr",
        "outputId": "e428d198-2939-47f6-f747-4dcd5c0c7c66",
        "colab": {
          "base_uri": "https://localhost:8080/"
        }
      },
      "id": "ubnAXO9FxVnr",
      "execution_count": 7,
      "outputs": [
        {
          "output_type": "stream",
          "name": "stdout",
          "text": [
            "Scalar Tensor:\n",
            "tf.Tensor(5, shape=(), dtype=int32)\n",
            "1-D Tensor (Vector) with 5 elements:\n",
            "tf.Tensor([1 2 3 4 5], shape=(5,), dtype=int32)\n",
            "2-D Tensor (Matrix) of shape (3, 3):\n",
            "tf.Tensor(\n",
            "[[1 2 3]\n",
            " [4 5 6]\n",
            " [7 8 9]], shape=(3, 3), dtype=int32)\n",
            "Data type (dtype) of the 2-D tensor (matrix):\n",
            "<dtype: 'int32'>\n",
            "TensorFlow Tensor from NumPy array:\n",
            "tf.Tensor(\n",
            "[[1 2 3]\n",
            " [4 5 6]], shape=(2, 3), dtype=int64)\n"
          ]
        }
      ]
    },
    {
      "cell_type": "markdown",
      "id": "02281206",
      "metadata": {
        "id": "02281206"
      },
      "source": [
        "\n",
        "## 2. Tensor Operations\n",
        "\n",
        "**Objective**: Perform basic arithmetic operations and learn some advanced operations.\n",
        "\n",
        "**Exercises**:\n",
        "1. Add, subtract, multiply, and divide two tensors.\n",
        "2. Compute the mean and standard deviation of a tensor.\n",
        "3. Apply a non-linear activation function (like ReLU) to a tensor.\n",
        "4. Perform matrix multiplication between two 2-D tensors.\n"
      ]
    },
    {
      "cell_type": "code",
      "source": [
        "import tensorflow as tf\n",
        "\n",
        "# Define two TensorFlow tensors\n",
        "tensor1 = tf.constant([[1, 2, 3],\n",
        "                       [4, 5, 6]])\n",
        "\n",
        "tensor2 = tf.constant([[7, 8, 9],\n",
        "                       [10, 11, 12]])\n",
        "\n",
        "# Addition\n",
        "addition_result = tf.add(tensor1, tensor2)\n",
        "\n",
        "# Subtraction\n",
        "subtraction_result = tf.subtract(tensor1, tensor2)\n",
        "\n",
        "# Multiplication\n",
        "multiplication_result = tf.multiply(tensor1, tensor2)\n",
        "\n",
        "# Division\n",
        "division_result = tf.divide(tensor1, tensor2)\n",
        "\n",
        "# Print results\n",
        "print(\"Addition Result:\")\n",
        "print(addition_result)\n",
        "print(\"\\nSubtraction Result:\")\n",
        "print(subtraction_result)\n",
        "print(\"\\nMultiplication Result:\")\n",
        "print(multiplication_result)\n",
        "print(\"\\nDivision Result:\")\n",
        "print(division_result)"
      ],
      "metadata": {
        "id": "1n0zUFijyXrO",
        "outputId": "c15b1af8-0c31-4a28-ec14-6affdb27e6dd",
        "colab": {
          "base_uri": "https://localhost:8080/"
        }
      },
      "id": "1n0zUFijyXrO",
      "execution_count": 8,
      "outputs": [
        {
          "output_type": "stream",
          "name": "stdout",
          "text": [
            "Addition Result:\n",
            "tf.Tensor(\n",
            "[[ 8 10 12]\n",
            " [14 16 18]], shape=(2, 3), dtype=int32)\n",
            "\n",
            "Subtraction Result:\n",
            "tf.Tensor(\n",
            "[[-6 -6 -6]\n",
            " [-6 -6 -6]], shape=(2, 3), dtype=int32)\n",
            "\n",
            "Multiplication Result:\n",
            "tf.Tensor(\n",
            "[[ 7 16 27]\n",
            " [40 55 72]], shape=(2, 3), dtype=int32)\n",
            "\n",
            "Division Result:\n",
            "tf.Tensor(\n",
            "[[0.14285714 0.25       0.33333333]\n",
            " [0.4        0.45454545 0.5       ]], shape=(2, 3), dtype=float64)\n"
          ]
        }
      ]
    },
    {
      "cell_type": "code",
      "source": [
        "import tensorflow as tf\n",
        "\n",
        "# Define a TensorFlow tensor (convert integer values to floating-point)\n",
        "tensor = tf.constant([[1.0, 2.0, 3.0],\n",
        "                      [4.0, 5.0, 6.0]])\n",
        "\n",
        "# Compute the mean\n",
        "mean = tf.reduce_mean(tensor)\n",
        "\n",
        "# Compute the standard deviation\n",
        "std_dev = tf.math.reduce_std(tf.cast(tensor, tf.float32))\n",
        "\n",
        "# Print results\n",
        "print(\"Mean of the tensor:\", mean.numpy())\n",
        "print(\"Standard deviation of the tensor:\", std_dev.numpy())\n"
      ],
      "metadata": {
        "id": "3x6518u6yeKs",
        "outputId": "bce072a8-a1dc-49bc-c814-bbd53020e2f5",
        "colab": {
          "base_uri": "https://localhost:8080/"
        }
      },
      "id": "3x6518u6yeKs",
      "execution_count": 10,
      "outputs": [
        {
          "output_type": "stream",
          "name": "stdout",
          "text": [
            "Mean of the tensor: 3.5\n",
            "Standard deviation of the tensor: 1.7078252\n"
          ]
        }
      ]
    },
    {
      "cell_type": "code",
      "source": [
        "tensor = tf.constant([-1.0, 2.0, -3.0, 4.0, -5.0])\n",
        "\n",
        "# Apply ReLU activation function\n",
        "relu_result = tf.nn.relu(tensor)\n",
        "\n",
        "# Print the result\n",
        "print(\"Result after applying ReLU activation:\")\n",
        "print(relu_result)"
      ],
      "metadata": {
        "id": "BIPV0tuzy5ZO",
        "outputId": "fce91d66-31c6-4ad6-9378-3544fa496c56",
        "colab": {
          "base_uri": "https://localhost:8080/"
        }
      },
      "id": "BIPV0tuzy5ZO",
      "execution_count": 11,
      "outputs": [
        {
          "output_type": "stream",
          "name": "stdout",
          "text": [
            "Result after applying ReLU activation:\n",
            "tf.Tensor([0. 2. 0. 4. 0.], shape=(5,), dtype=float32)\n"
          ]
        }
      ]
    },
    {
      "cell_type": "code",
      "source": [
        "import tensorflow as tf\n",
        "\n",
        "# Define two 2-D tensors\n",
        "tensor1 = tf.constant([[1, 2],\n",
        "                       [3, 4]])\n",
        "\n",
        "tensor2 = tf.constant([[5, 6],\n",
        "                       [7, 8]])\n",
        "\n",
        "# Perform matrix multiplication\n",
        "result = tf.matmul(tensor1, tensor2)\n",
        "\n",
        "# Print the result\n",
        "print(\"Result of matrix multiplication:\")\n",
        "print(result)\n"
      ],
      "metadata": {
        "id": "AhwW6DuNy902",
        "outputId": "11c4d0d4-1502-45e6-b183-59ce9e1c6ff0",
        "colab": {
          "base_uri": "https://localhost:8080/"
        }
      },
      "id": "AhwW6DuNy902",
      "execution_count": 12,
      "outputs": [
        {
          "output_type": "stream",
          "name": "stdout",
          "text": [
            "Result of matrix multiplication:\n",
            "tf.Tensor(\n",
            "[[19 22]\n",
            " [43 50]], shape=(2, 2), dtype=int32)\n"
          ]
        }
      ]
    },
    {
      "cell_type": "markdown",
      "id": "d4bd1425",
      "metadata": {
        "id": "d4bd1425"
      },
      "source": [
        "\n",
        "## 3. Manipulating Tensor Shapes\n",
        "\n",
        "**Objective**: Learn how to reshape and transpose tensors.\n",
        "\n",
        "**Exercises**:\n",
        "1. Create a tensor of shape (4, 4), then reshape it to (2, 8).\n",
        "2. Transpose a 2-D tensor.\n",
        "3. Flatten a 3-D tensor to a 1-D tensor.\n"
      ]
    },
    {
      "cell_type": "code",
      "source": [
        "import tensorflow as tf\n",
        "\n",
        "# Create a tensor of shape (4, 4)\n",
        "tensor = tf.constant([[1, 2, 3, 4],\n",
        "                      [5, 6, 7, 8],\n",
        "                      [9, 10, 11, 12],\n",
        "                      [13, 14, 15, 16]])\n",
        "\n",
        "# Reshape the tensor to shape (2, 8)\n",
        "reshaped_tensor = tf.reshape(tensor, (2, 8))\n",
        "\n",
        "# Print the original and reshaped tensors\n",
        "print(\"Original Tensor (shape 4x4):\")\n",
        "print(tensor)\n",
        "print(\"\\nReshaped Tensor (shape 2x8):\")\n",
        "print(reshaped_tensor)\n",
        "\n",
        "tensor = tf.constant([[1, 2, 3],\n",
        "                      [4, 5, 6]])\n",
        "\n",
        "# Transpose the tensor\n",
        "transposed_tensor = tf.transpose(tensor)\n",
        "\n",
        "# Print the original and transposed tensors\n",
        "print(\"Original Tensor:\")\n",
        "print(tensor)\n",
        "print(\"\\nTransposed Tensor:\")\n",
        "print(transposed_tensor)\n",
        "\n",
        "tensor_3d = tf.constant([[[1, 2, 3],\n",
        "                          [4, 5, 6]],\n",
        "\n",
        "                         [[7, 8, 9],\n",
        "                          [10, 11, 12]]])\n",
        "\n",
        "# Flatten the 3-D tensor to a 1-D tensor\n",
        "flattened_tensor = tf.reshape(tensor_3d, [-1])\n",
        "\n",
        "# Print the original and flattened tensors\n",
        "print(\"Original 3-D Tensor:\")\n",
        "print(tensor_3d)\n",
        "print(\"\\nFlattened 1-D Tensor:\")\n",
        "print(flattened_tensor)"
      ],
      "metadata": {
        "id": "UDmXkfc_zFlb",
        "outputId": "ebb0a29a-ace2-4f07-8df9-24adf093a566",
        "colab": {
          "base_uri": "https://localhost:8080/"
        }
      },
      "id": "UDmXkfc_zFlb",
      "execution_count": 16,
      "outputs": [
        {
          "output_type": "stream",
          "name": "stdout",
          "text": [
            "Original Tensor (shape 4x4):\n",
            "tf.Tensor(\n",
            "[[ 1  2  3  4]\n",
            " [ 5  6  7  8]\n",
            " [ 9 10 11 12]\n",
            " [13 14 15 16]], shape=(4, 4), dtype=int32)\n",
            "\n",
            "Reshaped Tensor (shape 2x8):\n",
            "tf.Tensor(\n",
            "[[ 1  2  3  4  5  6  7  8]\n",
            " [ 9 10 11 12 13 14 15 16]], shape=(2, 8), dtype=int32)\n",
            "Original Tensor:\n",
            "tf.Tensor(\n",
            "[[1 2 3]\n",
            " [4 5 6]], shape=(2, 3), dtype=int32)\n",
            "\n",
            "Transposed Tensor:\n",
            "tf.Tensor(\n",
            "[[1 4]\n",
            " [2 5]\n",
            " [3 6]], shape=(3, 2), dtype=int32)\n",
            "Original 3-D Tensor:\n",
            "tf.Tensor(\n",
            "[[[ 1  2  3]\n",
            "  [ 4  5  6]]\n",
            "\n",
            " [[ 7  8  9]\n",
            "  [10 11 12]]], shape=(2, 2, 3), dtype=int32)\n",
            "\n",
            "Flattened 1-D Tensor:\n",
            "tf.Tensor([ 1  2  3  4  5  6  7  8  9 10 11 12], shape=(12,), dtype=int32)\n"
          ]
        }
      ]
    },
    {
      "cell_type": "markdown",
      "id": "7c2af7ed",
      "metadata": {
        "id": "7c2af7ed"
      },
      "source": [
        "\n",
        "## 4. Indexing and Slicing\n",
        "\n",
        "**Objective**: Access specific elements or slices of a tensor.\n",
        "\n",
        "**Exercises**:\n",
        "1. Extract a specific element from a tensor.\n",
        "2. Slice a portion of a tensor.\n",
        "3. Use boolean tensor indexing to filter elements.\n"
      ]
    },
    {
      "cell_type": "code",
      "source": [
        "import tensorflow as tf\n",
        "\n",
        "# Create a sample tensor (2D array)\n",
        "tensor = tf.constant([[1, 2, 3],\n",
        "                      [4, 5, 6],\n",
        "                      [7, 8, 9]])\n",
        "\n",
        "# Specify the indices of the element you want to extract\n",
        "row_index = 1\n",
        "column_index = 2\n",
        "\n",
        "# Extract the element at the specified indices\n",
        "element = tensor[row_index, column_index]\n",
        "\n",
        "# Print the value of the element\n",
        "print(\"Element at ({}, {}):\".format(row_index, column_index), element.numpy())\n"
      ],
      "metadata": {
        "id": "Tgx0Izr_aji3",
        "outputId": "88d893f9-f53b-454a-f443-7c24e39ac629",
        "colab": {
          "base_uri": "https://localhost:8080/"
        }
      },
      "id": "Tgx0Izr_aji3",
      "execution_count": 3,
      "outputs": [
        {
          "output_type": "stream",
          "name": "stdout",
          "text": [
            "Element at (1, 2): 6\n"
          ]
        }
      ]
    },
    {
      "cell_type": "code",
      "source": [
        "import tensorflow as tf\n",
        "\n",
        "# Create a sample tensor (2D array)\n",
        "tensor = tf.constant([[1, 2, 3],\n",
        "                      [4, 5, 6],\n",
        "                      [7, 8, 9]])\n",
        "\n",
        "# Slice a portion of the tensor\n",
        "# Syntax: tensor[start_row:end_row, start_column:end_column]\n",
        "subset = tensor[0:2, 1:3]\n",
        "\n",
        "# Print the subset\n",
        "print(\"Subset of the tensor:\")\n",
        "print(subset)\n"
      ],
      "metadata": {
        "id": "bcFDAN_0a-t9",
        "outputId": "7959a0b1-d2b3-455f-8543-4405f4263c5a",
        "colab": {
          "base_uri": "https://localhost:8080/"
        }
      },
      "id": "bcFDAN_0a-t9",
      "execution_count": 6,
      "outputs": [
        {
          "output_type": "stream",
          "name": "stdout",
          "text": [
            "Subset of the tensor:\n",
            "tf.Tensor(\n",
            "[[2 3]\n",
            " [5 6]], shape=(2, 2), dtype=int32)\n"
          ]
        }
      ]
    },
    {
      "cell_type": "code",
      "source": [
        "import tensorflow as tf\n",
        "\n",
        "# Create a sample tensor\n",
        "tensor = tf.constant([[1, 2, 3],\n",
        "                      [4, 5, 6],\n",
        "                      [7, 8, 9]])\n",
        "\n",
        "# Define a boolean condition to filter elements greater than 5\n",
        "condition = tensor > 5\n",
        "\n",
        "# Apply the boolean condition to filter elements\n",
        "filtered_elements = tf.boolean_mask(tensor, condition)\n",
        "\n",
        "# Print the filtered elements\n",
        "print(\"Filtered elements:\")\n",
        "print(filtered_elements.numpy())\n"
      ],
      "metadata": {
        "id": "DVJm4hbGbwLW",
        "outputId": "cb95aa46-5267-40a0-8263-aec623d44905",
        "colab": {
          "base_uri": "https://localhost:8080/"
        }
      },
      "id": "DVJm4hbGbwLW",
      "execution_count": 5,
      "outputs": [
        {
          "output_type": "stream",
          "name": "stdout",
          "text": [
            "Filtered elements:\n",
            "[6 7 8 9]\n"
          ]
        }
      ]
    },
    {
      "cell_type": "markdown",
      "id": "dd6b95f3",
      "metadata": {
        "id": "dd6b95f3"
      },
      "source": [
        "\n",
        "## 5. Broadcasting\n",
        "\n",
        "**Objective**: Understand and apply broadcasting rules in tensor operations.\n",
        "\n",
        "**Exercises**:\n",
        "1. Perform an element-wise addition between tensors of different shapes.\n",
        "2. Broadcast a smaller tensor to match the shape of a larger tensor in an operation.\n"
      ]
    },
    {
      "cell_type": "markdown",
      "id": "978eb143",
      "metadata": {
        "id": "978eb143"
      },
      "source": [
        "\n",
        "## 6. Gradients and Differentiation\n",
        "\n",
        "**Objective**: Basic introduction to automatic differentiation.\n",
        "\n",
        "**Exercises**:\n",
        "1. Use `tf.GradientTape` to compute derivatives.\n",
        "2. Find the gradient of a simple function with respect to one of its inputs.\n"
      ]
    },
    {
      "cell_type": "markdown",
      "id": "5ca2545d",
      "metadata": {
        "id": "5ca2545d"
      },
      "source": [
        "\n",
        "## 7. Data Loading and Preprocessing\n",
        "\n",
        "**Objective**: Use `tf.data` for efficient data handling.\n",
        "\n",
        "**Exercises**:\n",
        "1. Create a simple dataset using `tf.data.Dataset`.\n",
        "2. Apply a transformation (like mapping) to the dataset.\n",
        "3. Batch and shuffle the dataset.\n"
      ]
    },
    {
      "cell_type": "code",
      "execution_count": null,
      "id": "FgxSOrQneCW6",
      "metadata": {
        "id": "FgxSOrQneCW6"
      },
      "outputs": [],
      "source": []
    }
  ],
  "metadata": {
    "colab": {
      "provenance": []
    },
    "kernelspec": {
      "display_name": "Python 3 (ipykernel)",
      "language": "python",
      "name": "python3"
    },
    "language_info": {
      "codemirror_mode": {
        "name": "ipython",
        "version": 3
      },
      "file_extension": ".py",
      "mimetype": "text/x-python",
      "name": "python",
      "nbconvert_exporter": "python",
      "pygments_lexer": "ipython3",
      "version": "3.10.6"
    }
  },
  "nbformat": 4,
  "nbformat_minor": 5
}